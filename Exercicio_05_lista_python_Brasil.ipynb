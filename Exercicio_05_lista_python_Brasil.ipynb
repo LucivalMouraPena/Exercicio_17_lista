{
  "nbformat": 4,
  "nbformat_minor": 0,
  "metadata": {
    "colab": {
      "provenance": [],
      "authorship_tag": "ABX9TyNGAkoCZba5V5Vgf3//+mgU",
      "include_colab_link": true
    },
    "kernelspec": {
      "name": "python3",
      "display_name": "Python 3"
    },
    "language_info": {
      "name": "python"
    }
  },
  "cells": [
    {
      "cell_type": "markdown",
      "metadata": {
        "id": "view-in-github",
        "colab_type": "text"
      },
      "source": [
        "<a href=\"https://colab.research.google.com/github/LucivalMouraPena/Exercicio_17_lista/blob/main/Exercicio_05_lista_python_Brasil.ipynb\" target=\"_parent\"><img src=\"https://colab.research.google.com/assets/colab-badge.svg\" alt=\"Open In Colab\"/></a>"
      ]
    },
    {
      "cell_type": "markdown",
      "source": [
        "Faça um programa para a leitura de duas notas parciais de um aluno. O programa deve calcular a média alcançada por aluno e apresentar:\n",
        "A mensagem \"Aprovado\", se a média alcançada for maior ou igual a sete;\n",
        "A mensagem \"Reprovado\", se a média for menor do que sete;\n",
        "A mensagem \"Aprovado com Distinção\", se a média for igual a dez."
      ],
      "metadata": {
        "id": "zvKwCSBOCZ3q"
      }
    },
    {
      "cell_type": "code",
      "execution_count": 1,
      "metadata": {
        "colab": {
          "base_uri": "https://localhost:8080/"
        },
        "id": "qrguobEFB8-x",
        "outputId": "8971d1f0-dfc0-4ba5-80e6-ef218b537174"
      },
      "outputs": [
        {
          "output_type": "stream",
          "name": "stdout",
          "text": [
            "Faça um programa para a leitura de duas notas parciais de um aluno. O programa deve calcular a média alcançada por aluno e apresentar:\n",
            "A mensagem \"Aprovado\", se a média alcançada for maior ou igual a sete;\n",
            "A mensagem \"Reprovado\", se a média for menor do que sete;\n",
            "A mensagem \"Aprovado com Distinção\", se a média for igual a dez.\n",
            "Digite a primeira nota:9\n",
            "Digite a segunda nota:8\n",
            "Aprovado\n"
          ]
        }
      ],
      "source": [
        "print('''Faça um programa para a leitura de duas notas parciais de um aluno. O programa deve calcular a média alcançada por aluno e apresentar:\n",
        "A mensagem \"Aprovado\", se a média alcançada for maior ou igual a sete;\n",
        "A mensagem \"Reprovado\", se a média for menor do que sete;\n",
        "A mensagem \"Aprovado com Distinção\", se a média for igual a dez.''')\n",
        "nota1 = float(input('Digite a primeira nota:'))\n",
        "nota2 = float(input('Digite a segunda nota:'))\n",
        "media = (nota1 + nota2) / 2\n",
        "if media == 10:\n",
        "  print('Aprovado com Distinção')\n",
        "elif media >= 7:\n",
        "  print('Aprovado')\n",
        "else:\n",
        "  print('Reprovado')\n",
        "\n"
      ]
    },
    {
      "cell_type": "code",
      "source": [],
      "metadata": {
        "id": "mOYbhNVoCpk1"
      },
      "execution_count": null,
      "outputs": []
    },
    {
      "cell_type": "markdown",
      "source": [],
      "metadata": {
        "id": "oj1i5GJUCWAS"
      }
    }
  ]
}