{
  "nbformat": 4,
  "nbformat_minor": 0,
  "metadata": {
    "colab": {
      "provenance": [],
      "authorship_tag": "ABX9TyPCWURWyUHO3WgWwKXv0KUW",
      "include_colab_link": true
    },
    "kernelspec": {
      "name": "python3",
      "display_name": "Python 3"
    },
    "language_info": {
      "name": "python"
    }
  },
  "cells": [
    {
      "cell_type": "markdown",
      "metadata": {
        "id": "view-in-github",
        "colab_type": "text"
      },
      "source": [
        "<a href=\"https://colab.research.google.com/github/LucivalMouraPena/Exercicio_17_lista/blob/main/Exercicio_4_lista_python_Brasil.ipynb\" target=\"_parent\"><img src=\"https://colab.research.google.com/assets/colab-badge.svg\" alt=\"Open In Colab\"/></a>"
      ]
    },
    {
      "cell_type": "markdown",
      "source": [
        "Faça um programa que peça as 4 notas bimestrais e mostre a media."
      ],
      "metadata": {
        "id": "W77eQrqWDiE-"
      }
    },
    {
      "cell_type": "code",
      "execution_count": null,
      "metadata": {
        "id": "T_P9nqaVDU4i"
      },
      "outputs": [],
      "source": [
        "# Declaração das variáveis\n",
        "nota1 = float(input(\"Digite a primeira nota: \"))\n",
        "nota2 = float(input(\"Digite a segunda nota: \"))\n",
        "nota3 = float(input(\"Digite a terceira nota: \"))\n",
        "nota4 = float(input(\"Digite a quarta nota: \"))\n",
        "\n",
        "# Cálculo da média\n",
        "media = (nota1 + nota2 + nota3 + nota4) / 4\n",
        "\n",
        "# Exibição da média\n",
        "print(\"A média das notas é: %.2f\" % media)\n"
      ]
    }
  ]
}