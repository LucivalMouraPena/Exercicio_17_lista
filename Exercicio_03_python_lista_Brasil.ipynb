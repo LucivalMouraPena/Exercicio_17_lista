{
  "nbformat": 4,
  "nbformat_minor": 0,
  "metadata": {
    "colab": {
      "provenance": [],
      "authorship_tag": "ABX9TyMiCNGDEa2JO31eWqE5gNm+",
      "include_colab_link": true
    },
    "kernelspec": {
      "name": "python3",
      "display_name": "Python 3"
    },
    "language_info": {
      "name": "python"
    }
  },
  "cells": [
    {
      "cell_type": "markdown",
      "metadata": {
        "id": "view-in-github",
        "colab_type": "text"
      },
      "source": [
        "<a href=\"https://colab.research.google.com/github/LucivalMouraPena/Exercicio_17_lista/blob/main/Exercicio_03_python_lista_Brasil.ipynb\" target=\"_parent\"><img src=\"https://colab.research.google.com/assets/colab-badge.svg\" alt=\"Open In Colab\"/></a>"
      ]
    },
    {
      "cell_type": "markdown",
      "source": [
        "Faça um Programa que verifique se uma letra digitada é \"F\" ou \"M\". Conforme a letra escrever: F - Feminino, M - Masculino, Sexo Inválido."
      ],
      "metadata": {
        "id": "beamwalf4N-o"
      }
    },
    {
      "cell_type": "code",
      "execution_count": 1,
      "metadata": {
        "colab": {
          "base_uri": "https://localhost:8080/"
        },
        "id": "PLBarsCu3-RI",
        "outputId": "50fa2b27-87d7-48bc-9ad8-2b5bba9e6e6b"
      },
      "outputs": [
        {
          "output_type": "stream",
          "name": "stdout",
          "text": [
            "Faça um Programa que verifique se uma letra digitada é \"F\" ou \"M\". Conforme a letra escrever: F - Feminino, M - Masculino, Sexo Inválido.\n",
            "Digite o seu sexo.( M para Masculino F para Feminino ou  para  I indefinido):f\n",
            "Feminino\n"
          ]
        }
      ],
      "source": [
        "print('Faça um Programa que verifique se uma letra digitada é \"F\" ou \"M\". Conforme a letra escrever: F - Feminino, M - Masculino, Sexo Inválido.')\n",
        "sexo = input('Digite o seu sexo.( M para Masculino F para Feminino ou  para  I indefinido):'). upper()\n",
        "if sexo == 'M':\n",
        "  print('Masculino')\n",
        "elif sexo == 'F':\n",
        "  print('Feminino')\n",
        "elif sexo == 'I':\n",
        "  print('Sexo Inválido')\n",
        "else:\n",
        "    print('Sexo Indefinido')\n",
        "\n"
      ]
    }
  ]
}