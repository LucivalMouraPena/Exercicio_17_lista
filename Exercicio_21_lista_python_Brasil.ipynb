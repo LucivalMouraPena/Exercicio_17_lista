{
  "nbformat": 4,
  "nbformat_minor": 0,
  "metadata": {
    "colab": {
      "provenance": [],
      "authorship_tag": "ABX9TyOgeirPz7gwwKgWd16UT1nW",
      "include_colab_link": true
    },
    "kernelspec": {
      "name": "python3",
      "display_name": "Python 3"
    },
    "language_info": {
      "name": "python"
    }
  },
  "cells": [
    {
      "cell_type": "markdown",
      "metadata": {
        "id": "view-in-github",
        "colab_type": "text"
      },
      "source": [
        "<a href=\"https://colab.research.google.com/github/LucivalMouraPena/Exercicio_17_lista/blob/main/Exercicio_21_lista_python_Brasil.ipynb\" target=\"_parent\"><img src=\"https://colab.research.google.com/assets/colab-badge.svg\" alt=\"Open In Colab\"/></a>"
      ]
    },
    {
      "cell_type": "markdown",
      "source": [
        "Faça um Programa para um caixa eletrônico. O programa deverá perguntar ao usuário a valor do saque e depois informar quantas notas de cada valor serão fornecidas. As notas disponíveis serão as de 1, 5, 10, 50 e 100 reais. O valor mínimo é de 10 reais e o máximo de 600 reais. O programa não deve se preocupar com a quantidade de notas existentes na máquina."
      ],
      "metadata": {
        "id": "VsBxbe1FgUhF"
      }
    },
    {
      "cell_type": "code",
      "execution_count": null,
      "metadata": {
        "colab": {
          "base_uri": "https://localhost:8080/"
        },
        "id": "ufxG2gWQXKm9",
        "outputId": "5896bca5-d9db-4939-ab59-9f7fb4d79693"
      },
      "outputs": [
        {
          "output_type": "stream",
          "name": "stdout",
          "text": [
            "Qual valor voce quer sacar?100\n",
            "Notas de 100: 1\n",
            "Notas de 50: 0\n",
            "Notas de 10: 0\n",
            "Notas de 5: 0\n",
            "Notas de 1: 0\n",
            "Deseja realizar o saque?\n",
            "Digite S para sim ou N para não: n\n",
            "Saque cancelado.\n"
          ]
        }
      ],
      "source": [
        "# 1.Solicita ao usuario o valor do saque\n",
        "valor = int(input('Qual valor voce quer sacar?'))\n",
        "\n",
        "# 2.Verifica se o valor é maior que 10,00 R$(valor mínimo de saque) e menor que 600,00 R$(valor máximo de saque)\n",
        "if valor < 10 or valor > 600:\n",
        "    print('Valor inválido. O valor mínimo de saque é R$ 10,00 e o valor máximo é R$ 600,00.')\n",
        "    exit()\n",
        "\n",
        "notas100 = valor // 100\n",
        "valor = valor % 100\n",
        "notas50 = valor // 50\n",
        "valor = valor % 50\n",
        "notas10 = valor // 10\n",
        "valor = valor % 10\n",
        "notas5 = valor // 5\n",
        "valor = valor % 5\n",
        "notas1 = valor // 1\n",
        "\n",
        "# 3.Informa ao usuario a quantidade de notas de cada valor\n",
        "print('Notas de 100:', notas100)\n",
        "print('Notas de 50:', notas50)\n",
        "print('Notas de 10:', notas10)\n",
        "print('Notas de 5:', notas5)\n",
        "print('Notas de 1:', notas1)\n",
        "\n",
        "# 4. Solicita ao usuario se deseja realizar o saque.\n",
        "print('Deseja realizar o saque?')\n",
        "saque = input('Digite S para sim ou N para não: ')\n",
        "\n",
        "# 5. Se sim, realiza o saque.\n",
        "if saque.upper() == 'S':\n",
        "    print('Saque realizado com sucesso!')\n",
        "    # Adiciona as notas entregues à lista\n",
        "    notas_entregues = []\n",
        "    if notas100 > 0:\n",
        "        notas_entregues.append(f'{notas100} notas de 100')\n",
        "    if notas50 > 0:\n",
        "        notas_entregues.append(f'{notas50} notas de 50')\n",
        "    if notas10 > 0:\n",
        "        notas_entregues.append(f'{notas10} notas de 10')\n",
        "    if notas5 > 0:\n",
        "        notas_entregues.append(f'{notas5} notas de 5')\n",
        "    if notas1 > 0:\n",
        "        notas_entregues.append(f'{notas1} notas de 1')\n",
        "    # Imprime a lista de notas entregues\n",
        "    print('Notas entregues:')\n",
        "    for nota in notas_entregues:\n",
        "        print(nota)\n",
        "else:\n",
        "    print('Saque cancelado.')\n"
      ]
    }
  ]
}